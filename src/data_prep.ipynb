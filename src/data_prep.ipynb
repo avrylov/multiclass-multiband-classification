{
 "cells": [
  {
   "cell_type": "code",
   "execution_count": null,
   "id": "8f26cda9",
   "metadata": {
    "pycharm": {
     "name": "#%%\n"
    }
   },
   "outputs": [],
   "source": [
    "import os\n",
    "\n",
    "import pandas as pd\n",
    "import numpy as np\n",
    "from sklearn.model_selection import StratifiedShuffleSplit\n",
    "\n",
    "from exp_main.settings import class_names"
   ]
  },
  {
   "cell_type": "markdown",
   "id": "2f543e11",
   "metadata": {},
   "source": [
    "### load raw data"
   ]
  },
  {
   "cell_type": "code",
   "execution_count": 5,
   "id": "1e065348",
   "metadata": {},
   "outputs": [
    {
     "data": {
      "text/plain": [
       "((10000, 13, 64, 64), (10000, 10))"
      ]
     },
     "execution_count": 5,
     "metadata": {},
     "output_type": "execute_result"
    }
   ],
   "source": [
    "s2_data_folder_path = 's2_data'\n",
    "s2_data_raw = np.load(os.path.join(s2_data_folder_path, 'data.npy'))\n",
    "gt_raw = np.load(os.path.join(s2_data_folder_path, 'gt.npy'))\n",
    "s2_data_raw.shape, gt_raw.shape"
   ]
  },
  {
   "cell_type": "markdown",
   "id": "e7e5c1a0",
   "metadata": {},
   "source": [
    "### create init df"
   ]
  },
  {
   "cell_type": "code",
   "execution_count": 3,
   "id": "3af171d5",
   "metadata": {
    "scrolled": true
   },
   "outputs": [
    {
     "data": {
      "text/html": [
       "<div>\n",
       "<style scoped>\n",
       "    .dataframe tbody tr th:only-of-type {\n",
       "        vertical-align: middle;\n",
       "    }\n",
       "\n",
       "    .dataframe tbody tr th {\n",
       "        vertical-align: top;\n",
       "    }\n",
       "\n",
       "    .dataframe thead th {\n",
       "        text-align: right;\n",
       "    }\n",
       "</style>\n",
       "<table border=\"1\" class=\"dataframe\">\n",
       "  <thead>\n",
       "    <tr style=\"text-align: right;\">\n",
       "      <th></th>\n",
       "      <th>s2_file_names</th>\n",
       "      <th>class_name</th>\n",
       "    </tr>\n",
       "  </thead>\n",
       "  <tbody>\n",
       "    <tr>\n",
       "      <th>0</th>\n",
       "      <td>AnnualCrop_0.npy</td>\n",
       "      <td>AnnualCrop</td>\n",
       "    </tr>\n",
       "    <tr>\n",
       "      <th>1</th>\n",
       "      <td>AnnualCrop_1.npy</td>\n",
       "      <td>AnnualCrop</td>\n",
       "    </tr>\n",
       "    <tr>\n",
       "      <th>2</th>\n",
       "      <td>AnnualCrop_2.npy</td>\n",
       "      <td>AnnualCrop</td>\n",
       "    </tr>\n",
       "    <tr>\n",
       "      <th>3</th>\n",
       "      <td>AnnualCrop_3.npy</td>\n",
       "      <td>AnnualCrop</td>\n",
       "    </tr>\n",
       "    <tr>\n",
       "      <th>4</th>\n",
       "      <td>AnnualCrop_4.npy</td>\n",
       "      <td>AnnualCrop</td>\n",
       "    </tr>\n",
       "    <tr>\n",
       "      <th>...</th>\n",
       "      <td>...</td>\n",
       "      <td>...</td>\n",
       "    </tr>\n",
       "    <tr>\n",
       "      <th>9995</th>\n",
       "      <td>SeaLake_995.npy</td>\n",
       "      <td>SeaLake</td>\n",
       "    </tr>\n",
       "    <tr>\n",
       "      <th>9996</th>\n",
       "      <td>SeaLake_996.npy</td>\n",
       "      <td>SeaLake</td>\n",
       "    </tr>\n",
       "    <tr>\n",
       "      <th>9997</th>\n",
       "      <td>SeaLake_997.npy</td>\n",
       "      <td>SeaLake</td>\n",
       "    </tr>\n",
       "    <tr>\n",
       "      <th>9998</th>\n",
       "      <td>SeaLake_998.npy</td>\n",
       "      <td>SeaLake</td>\n",
       "    </tr>\n",
       "    <tr>\n",
       "      <th>9999</th>\n",
       "      <td>SeaLake_999.npy</td>\n",
       "      <td>SeaLake</td>\n",
       "    </tr>\n",
       "  </tbody>\n",
       "</table>\n",
       "<p>10000 rows × 2 columns</p>\n",
       "</div>"
      ],
      "text/plain": [
       "         s2_file_names  class_name\n",
       "0     AnnualCrop_0.npy  AnnualCrop\n",
       "1     AnnualCrop_1.npy  AnnualCrop\n",
       "2     AnnualCrop_2.npy  AnnualCrop\n",
       "3     AnnualCrop_3.npy  AnnualCrop\n",
       "4     AnnualCrop_4.npy  AnnualCrop\n",
       "...                ...         ...\n",
       "9995   SeaLake_995.npy     SeaLake\n",
       "9996   SeaLake_996.npy     SeaLake\n",
       "9997   SeaLake_997.npy     SeaLake\n",
       "9998   SeaLake_998.npy     SeaLake\n",
       "9999   SeaLake_999.npy     SeaLake\n",
       "\n",
       "[10000 rows x 2 columns]"
      ]
     },
     "execution_count": 3,
     "metadata": {},
     "output_type": "execute_result"
    }
   ],
   "source": [
    "s2_file_names = [\n",
    "    class_name + '_' + str(file) + '.npy'\n",
    "    for class_name in class_names\n",
    "    for file in range(1000)\n",
    "    ]\n",
    "gt_name = [class_name \n",
    "           for class_name in class_names\n",
    "           for file in range(1000)\n",
    "          ]\n",
    "df_raw = pd.DataFrame(\n",
    "    data = {\n",
    "        's2_file_names': s2_file_names,\n",
    "        'class_name': gt_name\n",
    "    }\n",
    ")\n",
    "df_raw"
   ]
  },
  {
   "cell_type": "markdown",
   "id": "6e576dc5",
   "metadata": {},
   "source": [
    "### parse init data to separate .npy files"
   ]
  },
  {
   "cell_type": "code",
   "execution_count": 11,
   "id": "9a9b7025",
   "metadata": {},
   "outputs": [],
   "source": [
    "for i in range(len(df_raw)):\n",
    "    s2_data = s2_data_raw[i]\n",
    "    s2_data_file_name = df_raw['s2_file_names'].iloc[i]\n",
    "    s2_data_file_name_path = os.path.join(s2_data_folder_path, s2_data_file_name)\n",
    "    np.save(s2_data_file_name_path, s2_data)"
   ]
  },
  {
   "cell_type": "markdown",
   "id": "8980b986",
   "metadata": {},
   "source": [
    "### add class encoding"
   ]
  },
  {
   "cell_type": "code",
   "execution_count": 6,
   "id": "99e2cc3d",
   "metadata": {},
   "outputs": [
    {
     "data": {
      "text/html": [
       "<div>\n",
       "<style scoped>\n",
       "    .dataframe tbody tr th:only-of-type {\n",
       "        vertical-align: middle;\n",
       "    }\n",
       "\n",
       "    .dataframe tbody tr th {\n",
       "        vertical-align: top;\n",
       "    }\n",
       "\n",
       "    .dataframe thead th {\n",
       "        text-align: right;\n",
       "    }\n",
       "</style>\n",
       "<table border=\"1\" class=\"dataframe\">\n",
       "  <thead>\n",
       "    <tr style=\"text-align: right;\">\n",
       "      <th></th>\n",
       "      <th>s2_file_names</th>\n",
       "      <th>class_name</th>\n",
       "      <th>AnnualCrop</th>\n",
       "      <th>Forest</th>\n",
       "      <th>HerbaceousVegetation</th>\n",
       "      <th>Highway</th>\n",
       "      <th>Industrial</th>\n",
       "      <th>Pasture</th>\n",
       "      <th>PermanentCrop</th>\n",
       "      <th>Residential</th>\n",
       "      <th>River</th>\n",
       "      <th>SeaLake</th>\n",
       "    </tr>\n",
       "  </thead>\n",
       "  <tbody>\n",
       "    <tr>\n",
       "      <th>0</th>\n",
       "      <td>AnnualCrop_0.npy</td>\n",
       "      <td>AnnualCrop</td>\n",
       "      <td>1.0</td>\n",
       "      <td>0.0</td>\n",
       "      <td>0.0</td>\n",
       "      <td>0.0</td>\n",
       "      <td>0.0</td>\n",
       "      <td>0.0</td>\n",
       "      <td>0.0</td>\n",
       "      <td>0.0</td>\n",
       "      <td>0.0</td>\n",
       "      <td>0.0</td>\n",
       "    </tr>\n",
       "    <tr>\n",
       "      <th>1</th>\n",
       "      <td>AnnualCrop_1.npy</td>\n",
       "      <td>AnnualCrop</td>\n",
       "      <td>1.0</td>\n",
       "      <td>0.0</td>\n",
       "      <td>0.0</td>\n",
       "      <td>0.0</td>\n",
       "      <td>0.0</td>\n",
       "      <td>0.0</td>\n",
       "      <td>0.0</td>\n",
       "      <td>0.0</td>\n",
       "      <td>0.0</td>\n",
       "      <td>0.0</td>\n",
       "    </tr>\n",
       "    <tr>\n",
       "      <th>2</th>\n",
       "      <td>AnnualCrop_2.npy</td>\n",
       "      <td>AnnualCrop</td>\n",
       "      <td>1.0</td>\n",
       "      <td>0.0</td>\n",
       "      <td>0.0</td>\n",
       "      <td>0.0</td>\n",
       "      <td>0.0</td>\n",
       "      <td>0.0</td>\n",
       "      <td>0.0</td>\n",
       "      <td>0.0</td>\n",
       "      <td>0.0</td>\n",
       "      <td>0.0</td>\n",
       "    </tr>\n",
       "    <tr>\n",
       "      <th>3</th>\n",
       "      <td>AnnualCrop_3.npy</td>\n",
       "      <td>AnnualCrop</td>\n",
       "      <td>1.0</td>\n",
       "      <td>0.0</td>\n",
       "      <td>0.0</td>\n",
       "      <td>0.0</td>\n",
       "      <td>0.0</td>\n",
       "      <td>0.0</td>\n",
       "      <td>0.0</td>\n",
       "      <td>0.0</td>\n",
       "      <td>0.0</td>\n",
       "      <td>0.0</td>\n",
       "    </tr>\n",
       "    <tr>\n",
       "      <th>4</th>\n",
       "      <td>AnnualCrop_4.npy</td>\n",
       "      <td>AnnualCrop</td>\n",
       "      <td>1.0</td>\n",
       "      <td>0.0</td>\n",
       "      <td>0.0</td>\n",
       "      <td>0.0</td>\n",
       "      <td>0.0</td>\n",
       "      <td>0.0</td>\n",
       "      <td>0.0</td>\n",
       "      <td>0.0</td>\n",
       "      <td>0.0</td>\n",
       "      <td>0.0</td>\n",
       "    </tr>\n",
       "    <tr>\n",
       "      <th>...</th>\n",
       "      <td>...</td>\n",
       "      <td>...</td>\n",
       "      <td>...</td>\n",
       "      <td>...</td>\n",
       "      <td>...</td>\n",
       "      <td>...</td>\n",
       "      <td>...</td>\n",
       "      <td>...</td>\n",
       "      <td>...</td>\n",
       "      <td>...</td>\n",
       "      <td>...</td>\n",
       "      <td>...</td>\n",
       "    </tr>\n",
       "    <tr>\n",
       "      <th>9995</th>\n",
       "      <td>SeaLake_995.npy</td>\n",
       "      <td>SeaLake</td>\n",
       "      <td>0.0</td>\n",
       "      <td>0.0</td>\n",
       "      <td>0.0</td>\n",
       "      <td>0.0</td>\n",
       "      <td>0.0</td>\n",
       "      <td>0.0</td>\n",
       "      <td>0.0</td>\n",
       "      <td>0.0</td>\n",
       "      <td>0.0</td>\n",
       "      <td>1.0</td>\n",
       "    </tr>\n",
       "    <tr>\n",
       "      <th>9996</th>\n",
       "      <td>SeaLake_996.npy</td>\n",
       "      <td>SeaLake</td>\n",
       "      <td>0.0</td>\n",
       "      <td>0.0</td>\n",
       "      <td>0.0</td>\n",
       "      <td>0.0</td>\n",
       "      <td>0.0</td>\n",
       "      <td>0.0</td>\n",
       "      <td>0.0</td>\n",
       "      <td>0.0</td>\n",
       "      <td>0.0</td>\n",
       "      <td>1.0</td>\n",
       "    </tr>\n",
       "    <tr>\n",
       "      <th>9997</th>\n",
       "      <td>SeaLake_997.npy</td>\n",
       "      <td>SeaLake</td>\n",
       "      <td>0.0</td>\n",
       "      <td>0.0</td>\n",
       "      <td>0.0</td>\n",
       "      <td>0.0</td>\n",
       "      <td>0.0</td>\n",
       "      <td>0.0</td>\n",
       "      <td>0.0</td>\n",
       "      <td>0.0</td>\n",
       "      <td>0.0</td>\n",
       "      <td>1.0</td>\n",
       "    </tr>\n",
       "    <tr>\n",
       "      <th>9998</th>\n",
       "      <td>SeaLake_998.npy</td>\n",
       "      <td>SeaLake</td>\n",
       "      <td>0.0</td>\n",
       "      <td>0.0</td>\n",
       "      <td>0.0</td>\n",
       "      <td>0.0</td>\n",
       "      <td>0.0</td>\n",
       "      <td>0.0</td>\n",
       "      <td>0.0</td>\n",
       "      <td>0.0</td>\n",
       "      <td>0.0</td>\n",
       "      <td>1.0</td>\n",
       "    </tr>\n",
       "    <tr>\n",
       "      <th>9999</th>\n",
       "      <td>SeaLake_999.npy</td>\n",
       "      <td>SeaLake</td>\n",
       "      <td>0.0</td>\n",
       "      <td>0.0</td>\n",
       "      <td>0.0</td>\n",
       "      <td>0.0</td>\n",
       "      <td>0.0</td>\n",
       "      <td>0.0</td>\n",
       "      <td>0.0</td>\n",
       "      <td>0.0</td>\n",
       "      <td>0.0</td>\n",
       "      <td>1.0</td>\n",
       "    </tr>\n",
       "  </tbody>\n",
       "</table>\n",
       "<p>10000 rows × 12 columns</p>\n",
       "</div>"
      ],
      "text/plain": [
       "         s2_file_names  class_name  AnnualCrop  Forest  HerbaceousVegetation  \\\n",
       "0     AnnualCrop_0.npy  AnnualCrop         1.0     0.0                   0.0   \n",
       "1     AnnualCrop_1.npy  AnnualCrop         1.0     0.0                   0.0   \n",
       "2     AnnualCrop_2.npy  AnnualCrop         1.0     0.0                   0.0   \n",
       "3     AnnualCrop_3.npy  AnnualCrop         1.0     0.0                   0.0   \n",
       "4     AnnualCrop_4.npy  AnnualCrop         1.0     0.0                   0.0   \n",
       "...                ...         ...         ...     ...                   ...   \n",
       "9995   SeaLake_995.npy     SeaLake         0.0     0.0                   0.0   \n",
       "9996   SeaLake_996.npy     SeaLake         0.0     0.0                   0.0   \n",
       "9997   SeaLake_997.npy     SeaLake         0.0     0.0                   0.0   \n",
       "9998   SeaLake_998.npy     SeaLake         0.0     0.0                   0.0   \n",
       "9999   SeaLake_999.npy     SeaLake         0.0     0.0                   0.0   \n",
       "\n",
       "      Highway  Industrial  Pasture  PermanentCrop  Residential  River  SeaLake  \n",
       "0         0.0         0.0      0.0            0.0          0.0    0.0      0.0  \n",
       "1         0.0         0.0      0.0            0.0          0.0    0.0      0.0  \n",
       "2         0.0         0.0      0.0            0.0          0.0    0.0      0.0  \n",
       "3         0.0         0.0      0.0            0.0          0.0    0.0      0.0  \n",
       "4         0.0         0.0      0.0            0.0          0.0    0.0      0.0  \n",
       "...       ...         ...      ...            ...          ...    ...      ...  \n",
       "9995      0.0         0.0      0.0            0.0          0.0    0.0      1.0  \n",
       "9996      0.0         0.0      0.0            0.0          0.0    0.0      1.0  \n",
       "9997      0.0         0.0      0.0            0.0          0.0    0.0      1.0  \n",
       "9998      0.0         0.0      0.0            0.0          0.0    0.0      1.0  \n",
       "9999      0.0         0.0      0.0            0.0          0.0    0.0      1.0  \n",
       "\n",
       "[10000 rows x 12 columns]"
      ]
     },
     "execution_count": 6,
     "metadata": {},
     "output_type": "execute_result"
    }
   ],
   "source": [
    "encoded_gt_df = pd.DataFrame(gt_raw, columns=class_names)\n",
    "df = pd.concat([df_raw, encoded_gt_df], axis=1)\n",
    "df"
   ]
  },
  {
   "cell_type": "markdown",
   "id": "38e17ed5",
   "metadata": {},
   "source": [
    "### split dataset to train/val/test"
   ]
  },
  {
   "cell_type": "markdown",
   "id": "458e1812",
   "metadata": {},
   "source": [
    "#### train_test and val"
   ]
  },
  {
   "cell_type": "code",
   "execution_count": 7,
   "id": "255422d2",
   "metadata": {},
   "outputs": [],
   "source": [
    "sss = StratifiedShuffleSplit(n_splits=1, test_size=0.15, random_state=7)\n",
    "\n",
    "X_values = df['s2_file_names'].values\n",
    "y_values = df['class_name'].values\n",
    "\n",
    "train_test_index, val_index = next(iter(sss.split(X_values, y_values)))\n",
    "\n",
    "train_test_df = df[df.index.isin(train_test_index)]\n",
    "val_df = df[df.index.isin(val_index)]"
   ]
  },
  {
   "cell_type": "markdown",
   "id": "0c9662e2",
   "metadata": {},
   "source": [
    "#### train and test"
   ]
  },
  {
   "cell_type": "code",
   "execution_count": 8,
   "id": "90e3cb13",
   "metadata": {},
   "outputs": [],
   "source": [
    "train_df = pd.DataFrame()\n",
    "test_df = pd.DataFrame()\n",
    "\n",
    "for class_name in train_test_df['class_name'].unique():\n",
    "    class_name_df = train_test_df[train_test_df['class_name'] == class_name]\n",
    "    class_name_df = class_name_df.sample(frac=1)\n",
    "    class_name_test_df = class_name_df.iloc[:100]\n",
    "    class_name_train_df = class_name_df[~class_name_df.index.isin(class_name_test_df.index)]\n",
    "    \n",
    "    test_df = test_df.append(class_name_test_df)\n",
    "    train_df = train_df.append(class_name_train_df)"
   ]
  },
  {
   "cell_type": "markdown",
   "id": "ef42193e",
   "metadata": {},
   "source": [
    "#### check splitting"
   ]
  },
  {
   "cell_type": "code",
   "execution_count": 9,
   "id": "b105a91c",
   "metadata": {},
   "outputs": [
    {
     "data": {
      "text/plain": [
       "((7500, 12), (1500, 12), (1000, 12))"
      ]
     },
     "execution_count": 9,
     "metadata": {},
     "output_type": "execute_result"
    }
   ],
   "source": [
    "train_df.shape, val_df.shape, test_df.shape"
   ]
  },
  {
   "cell_type": "code",
   "execution_count": 10,
   "id": "d96c0c8a",
   "metadata": {
    "scrolled": true
   },
   "outputs": [
    {
     "data": {
      "text/plain": [
       "(HerbaceousVegetation    750\n",
       " Residential             750\n",
       " PermanentCrop           750\n",
       " River                   750\n",
       " Highway                 750\n",
       " SeaLake                 750\n",
       " Pasture                 750\n",
       " AnnualCrop              750\n",
       " Industrial              750\n",
       " Forest                  750\n",
       " Name: class_name, dtype: int64,\n",
       " HerbaceousVegetation    150\n",
       " Industrial              150\n",
       " Forest                  150\n",
       " Residential             150\n",
       " Pasture                 150\n",
       " River                   150\n",
       " Highway                 150\n",
       " PermanentCrop           150\n",
       " SeaLake                 150\n",
       " AnnualCrop              150\n",
       " Name: class_name, dtype: int64,\n",
       " River                   100\n",
       " Highway                 100\n",
       " PermanentCrop           100\n",
       " SeaLake                 100\n",
       " HerbaceousVegetation    100\n",
       " Industrial              100\n",
       " Forest                  100\n",
       " Residential             100\n",
       " AnnualCrop              100\n",
       " Pasture                 100\n",
       " Name: class_name, dtype: int64)"
      ]
     },
     "execution_count": 10,
     "metadata": {},
     "output_type": "execute_result"
    }
   ],
   "source": [
    "train_df['class_name'].value_counts(), val_df['class_name'].value_counts(), test_df['class_name'].value_counts()"
   ]
  },
  {
   "cell_type": "code",
   "execution_count": 11,
   "id": "6d558c74",
   "metadata": {},
   "outputs": [],
   "source": [
    "csv_folder_path = 'csv'\n",
    "train_df.to_csv(os.path.join(csv_folder_path, 'train.csv'), index=False)\n",
    "val_df.to_csv(os.path.join(csv_folder_path, 'val.csv'), index=False)\n",
    "test_df.to_csv(os.path.join(csv_folder_path, 'test.csv'), index=False)"
   ]
  }
 ],
 "metadata": {
  "kernelspec": {
   "display_name": "Python 3",
   "language": "python",
   "name": "python3"
  },
  "language_info": {
   "codemirror_mode": {
    "name": "ipython",
    "version": 3
   },
   "file_extension": ".py",
   "mimetype": "text/x-python",
   "name": "python",
   "nbconvert_exporter": "python",
   "pygments_lexer": "ipython3",
   "version": "3.6.7"
  }
 },
 "nbformat": 4,
 "nbformat_minor": 5
}
