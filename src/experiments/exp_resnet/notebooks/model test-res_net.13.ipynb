{
 "cells": [
  {
   "cell_type": "code",
   "execution_count": 1,
   "id": "8dfd3f9b",
   "metadata": {},
   "outputs": [
    {
     "name": "stdout",
     "output_type": "stream",
     "text": [
      "/home/rylov/PycharmProjects/multiclass-multiband-classification/src/experiments/exp_resnet\n"
     ]
    }
   ],
   "source": [
    "%cd '../'"
   ]
  },
  {
   "cell_type": "code",
   "execution_count": 2,
   "id": "be809e9d",
   "metadata": {
    "scrolled": true
   },
   "outputs": [
    {
     "name": "stdout",
     "output_type": "stream",
     "text": [
      "----------------------------------------------------------------\n",
      "        Layer (type)               Output Shape         Param #\n",
      "================================================================\n",
      "         ZeroPad2d-1           [-1, 13, 70, 70]               0\n",
      "            Conv2d-2           [-1, 64, 32, 32]          40,832\n",
      "       BatchNorm2d-3           [-1, 64, 32, 32]             128\n",
      "              ReLU-4           [-1, 64, 32, 32]               0\n",
      "         MaxPool2d-5           [-1, 64, 15, 15]               0\n",
      "            Conv2d-6           [-1, 64, 15, 15]           4,160\n",
      "       BatchNorm2d-7           [-1, 64, 15, 15]             128\n",
      "              ReLU-8           [-1, 64, 15, 15]               0\n",
      "            Conv2d-9           [-1, 64, 15, 15]          36,928\n",
      "      BatchNorm2d-10           [-1, 64, 15, 15]             128\n",
      "             ReLU-11           [-1, 64, 15, 15]               0\n",
      "           Conv2d-12          [-1, 256, 15, 15]          16,640\n",
      "      BatchNorm2d-13          [-1, 256, 15, 15]             512\n",
      "           Conv2d-14          [-1, 256, 15, 15]          16,640\n",
      "      BatchNorm2d-15          [-1, 256, 15, 15]             512\n",
      "             ReLU-16          [-1, 256, 15, 15]               0\n",
      "          ResConv-17          [-1, 256, 15, 15]               0\n",
      "           Conv2d-18           [-1, 64, 15, 15]          16,448\n",
      "      BatchNorm2d-19           [-1, 64, 15, 15]             128\n",
      "             ReLU-20           [-1, 64, 15, 15]               0\n",
      "           Conv2d-21           [-1, 64, 15, 15]          36,928\n",
      "      BatchNorm2d-22           [-1, 64, 15, 15]             128\n",
      "             ReLU-23           [-1, 64, 15, 15]               0\n",
      "           Conv2d-24          [-1, 256, 15, 15]          16,640\n",
      "      BatchNorm2d-25          [-1, 256, 15, 15]             512\n",
      "             ReLU-26          [-1, 256, 15, 15]               0\n",
      "      ResIdentity-27          [-1, 256, 15, 15]               0\n",
      "           Conv2d-28           [-1, 64, 15, 15]          16,448\n",
      "      BatchNorm2d-29           [-1, 64, 15, 15]             128\n",
      "             ReLU-30           [-1, 64, 15, 15]               0\n",
      "           Conv2d-31           [-1, 64, 15, 15]          36,928\n",
      "      BatchNorm2d-32           [-1, 64, 15, 15]             128\n",
      "             ReLU-33           [-1, 64, 15, 15]               0\n",
      "           Conv2d-34          [-1, 256, 15, 15]          16,640\n",
      "      BatchNorm2d-35          [-1, 256, 15, 15]             512\n",
      "             ReLU-36          [-1, 256, 15, 15]               0\n",
      "      ResIdentity-37          [-1, 256, 15, 15]               0\n",
      "           Conv2d-38          [-1, 128, 15, 15]          32,896\n",
      "      BatchNorm2d-39          [-1, 128, 15, 15]             256\n",
      "             ReLU-40          [-1, 128, 15, 15]               0\n",
      "           Conv2d-41          [-1, 128, 15, 15]         147,584\n",
      "      BatchNorm2d-42          [-1, 128, 15, 15]             256\n",
      "             ReLU-43          [-1, 128, 15, 15]               0\n",
      "           Conv2d-44          [-1, 512, 15, 15]          66,048\n",
      "      BatchNorm2d-45          [-1, 512, 15, 15]           1,024\n",
      "           Conv2d-46          [-1, 512, 15, 15]         131,584\n",
      "      BatchNorm2d-47          [-1, 512, 15, 15]           1,024\n",
      "             ReLU-48          [-1, 512, 15, 15]               0\n",
      "          ResConv-49          [-1, 512, 15, 15]               0\n",
      "           Conv2d-50          [-1, 128, 15, 15]          65,664\n",
      "      BatchNorm2d-51          [-1, 128, 15, 15]             256\n",
      "             ReLU-52          [-1, 128, 15, 15]               0\n",
      "           Conv2d-53          [-1, 128, 15, 15]         147,584\n",
      "      BatchNorm2d-54          [-1, 128, 15, 15]             256\n",
      "             ReLU-55          [-1, 128, 15, 15]               0\n",
      "           Conv2d-56          [-1, 512, 15, 15]          66,048\n",
      "      BatchNorm2d-57          [-1, 512, 15, 15]           1,024\n",
      "             ReLU-58          [-1, 512, 15, 15]               0\n",
      "      ResIdentity-59          [-1, 512, 15, 15]               0\n",
      "           Conv2d-60          [-1, 128, 15, 15]          65,664\n",
      "      BatchNorm2d-61          [-1, 128, 15, 15]             256\n",
      "             ReLU-62          [-1, 128, 15, 15]               0\n",
      "           Conv2d-63          [-1, 128, 15, 15]         147,584\n",
      "      BatchNorm2d-64          [-1, 128, 15, 15]             256\n",
      "             ReLU-65          [-1, 128, 15, 15]               0\n",
      "           Conv2d-66          [-1, 512, 15, 15]          66,048\n",
      "      BatchNorm2d-67          [-1, 512, 15, 15]           1,024\n",
      "             ReLU-68          [-1, 512, 15, 15]               0\n",
      "      ResIdentity-69          [-1, 512, 15, 15]               0\n",
      "           Conv2d-70          [-1, 128, 15, 15]          65,664\n",
      "      BatchNorm2d-71          [-1, 128, 15, 15]             256\n",
      "             ReLU-72          [-1, 128, 15, 15]               0\n",
      "           Conv2d-73          [-1, 128, 15, 15]         147,584\n",
      "      BatchNorm2d-74          [-1, 128, 15, 15]             256\n",
      "             ReLU-75          [-1, 128, 15, 15]               0\n",
      "           Conv2d-76          [-1, 512, 15, 15]          66,048\n",
      "      BatchNorm2d-77          [-1, 512, 15, 15]           1,024\n",
      "             ReLU-78          [-1, 512, 15, 15]               0\n",
      "      ResIdentity-79          [-1, 512, 15, 15]               0\n",
      "        MaxPool2d-80            [-1, 512, 7, 7]               0\n",
      "           Linear-81                 [-1, 2048]      51,382,272\n",
      "             ReLU-82                 [-1, 2048]               0\n",
      "           Linear-83                  [-1, 512]       1,049,088\n",
      "             ReLU-84                  [-1, 512]               0\n",
      "           Linear-85                   [-1, 10]           5,130\n",
      "================================================================\n",
      "Total params: 53,917,834\n",
      "Trainable params: 53,917,834\n",
      "Non-trainable params: 0\n",
      "----------------------------------------------------------------\n",
      "Input size (MB): 0.20\n",
      "Forward/backward pass size (MB): 31.55\n",
      "Params size (MB): 205.68\n",
      "Estimated Total Size (MB): 237.43\n",
      "----------------------------------------------------------------\n",
      "None\n"
     ]
    }
   ],
   "source": [
    "import os\n",
    "\n",
    "from tqdm import tqdm\n",
    "\n",
    "import pandas as pd\n",
    "import numpy as np\n",
    "from sklearn import metrics\n",
    "from sklearn.metrics import precision_recall_fscore_support\n",
    "\n",
    "import seaborn as sns\n",
    "from matplotlib import pyplot as plt\n",
    "\n",
    "import torch\n",
    "from torch.utils.data import DataLoader\n",
    "import torch.nn.functional as f\n",
    "\n",
    "from model import TorchLightNet\n",
    "from generator import MyDataset\n",
    "from data_frame import make_data_frame\n",
    "from settings import CSV_FOLDER_PATH, CHECK_POINTER_PATH, SUB_EXP, class_names"
   ]
  },
  {
   "cell_type": "code",
   "execution_count": 3,
   "id": "b25d852f",
   "metadata": {},
   "outputs": [],
   "source": [
    "device = torch.device(f'cuda:0')\n",
    "\n",
    "dataset, df = make_data_frame(CSV_FOLDER_PATH, 'train.csv', 'val.csv', 'test.csv')\n",
    "test_df = df.get('test')\n",
    "\n",
    "test_dataset = MyDataset(test_df)\n",
    "test_loader = DataLoader(test_dataset, batch_size=len(test_df), pin_memory=True, shuffle=False)"
   ]
  },
  {
   "cell_type": "code",
   "execution_count": 4,
   "id": "20362ad8",
   "metadata": {
    "scrolled": true
   },
   "outputs": [],
   "source": [
    "chk_path = os.path.join(CHECK_POINTER_PATH, SUB_EXP, 'epoch=71-val_loss=0.5181-val_acc=0.8353.ckpt')\n",
    "model = TorchLightNet.load_from_checkpoint(checkpoint_path=chk_path)\n",
    "model.to(device)\n",
    "model.eval()\n",
    "\n",
    "test_predictions = []\n",
    "labels_list = []\n",
    "idx, inputs, labels = next(iter(test_loader))\n",
    "bands_13 = inputs.to(device, dtype=torch.float)\n",
    "labels = labels.data.cpu().numpy()\n",
    "with torch.set_grad_enabled(False):\n",
    "    preds_logits = model(bands_13)\n",
    "    preds_logits = preds_logits.data.cpu()\n",
    "    preds_class = torch.argmax(preds_logits, dim=1).numpy()\n",
    "test_predictions.append(preds_class)\n",
    "labels_list.append(labels)\n",
    "    \n",
    "test_predictions = np.concatenate(test_predictions)\n",
    "labels_list = np.concatenate(labels_list)"
   ]
  },
  {
   "cell_type": "code",
   "execution_count": 5,
   "id": "a6e9ca9e",
   "metadata": {},
   "outputs": [
    {
     "name": "stdout",
     "output_type": "stream",
     "text": [
      "precision is 0.81, recall is 0.8, f1 is 0.8\n"
     ]
    }
   ],
   "source": [
    "precision, recall, f1, _ = precision_recall_fscore_support(labels_list,\n",
    "                                                           test_predictions,\n",
    "                                                           average='macro'  # cause we have balanced classes\n",
    "                                                          )\n",
    "print(f'precision is {round(precision, 2)}, recall is {round(recall, 2)}, f1 is {round(f1, 2)}')"
   ]
  },
  {
   "cell_type": "code",
   "execution_count": 6,
   "id": "ce5b2e0e",
   "metadata": {},
   "outputs": [
    {
     "data": {
      "image/png": "[encoded data removed]",
      "text/plain": [
       "<Figure size 1440x720 with 2 Axes>"
      ]
     },
     "metadata": {
      "needs_background": "light"
     },
     "output_type": "display_data"
    }
   ],
   "source": [
    "conf_matrix = metrics.confusion_matrix(labels_list, test_predictions) \n",
    "conf_matrix_df = pd.DataFrame(conf_matrix,\n",
    "                              index=class_names,\n",
    "                              columns=class_names)\n",
    "\n",
    "plt.figure(figsize=(20, 10))\n",
    "sns.heatmap(conf_matrix_df,\n",
    "            annot=True,\n",
    "            fmt='d',\n",
    "            cmap=plt.cm.Blues)\n",
    "plt.tight_layout()\n",
    "plt.ylabel('True label')\n",
    "plt.xlabel('Predicted label')\n",
    "plt.show()"
   ]
  },
  {
   "cell_type": "code",
   "execution_count": null,
   "id": "c87a173d",
   "metadata": {},
   "outputs": [],
   "source": []
  }
 ],
 "metadata": {
  "kernelspec": {
   "display_name": "Python 3",
   "language": "python",
   "name": "python3"
  },
  "language_info": {
   "codemirror_mode": {
    "name": "ipython",
    "version": 3
   },
   "file_extension": ".py",
   "mimetype": "text/x-python",
   "name": "python",
   "nbconvert_exporter": "python",
   "pygments_lexer": "ipython3",
   "version": "3.6.7"
  }
 },
 "nbformat": 4,
 "nbformat_minor": 5
}
